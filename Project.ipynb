{
 "cells": [
  {
   "cell_type": "code",
   "execution_count": 1,
   "metadata": {},
   "outputs": [
    {
     "name": "stderr",
     "output_type": "stream",
     "text": [
      "── \u001b[1mAttaching packages\u001b[22m ─────────────────────────────────────── tidyverse 1.3.0 ──\n",
      "\n",
      "\u001b[32m✔\u001b[39m \u001b[34mggplot2\u001b[39m 3.3.2     \u001b[32m✔\u001b[39m \u001b[34mpurrr  \u001b[39m 0.3.4\n",
      "\u001b[32m✔\u001b[39m \u001b[34mtibble \u001b[39m 3.0.3     \u001b[32m✔\u001b[39m \u001b[34mdplyr  \u001b[39m 1.0.2\n",
      "\u001b[32m✔\u001b[39m \u001b[34mtidyr  \u001b[39m 1.1.1     \u001b[32m✔\u001b[39m \u001b[34mstringr\u001b[39m 1.4.0\n",
      "\u001b[32m✔\u001b[39m \u001b[34mreadr  \u001b[39m 1.3.1     \u001b[32m✔\u001b[39m \u001b[34mforcats\u001b[39m 0.5.0\n",
      "\n",
      "Warning message:\n",
      "“package ‘ggplot2’ was built under R version 4.0.1”\n",
      "Warning message:\n",
      "“package ‘tibble’ was built under R version 4.0.2”\n",
      "Warning message:\n",
      "“package ‘tidyr’ was built under R version 4.0.2”\n",
      "Warning message:\n",
      "“package ‘dplyr’ was built under R version 4.0.2”\n",
      "── \u001b[1mConflicts\u001b[22m ────────────────────────────────────────── tidyverse_conflicts() ──\n",
      "\u001b[31m✖\u001b[39m \u001b[34mdplyr\u001b[39m::\u001b[32mfilter()\u001b[39m masks \u001b[34mstats\u001b[39m::filter()\n",
      "\u001b[31m✖\u001b[39m \u001b[34mdplyr\u001b[39m::\u001b[32mlag()\u001b[39m    masks \u001b[34mstats\u001b[39m::lag()\n",
      "\n",
      "Warning message:\n",
      "“package ‘tidymodels’ was built under R version 4.0.2”\n",
      "── \u001b[1mAttaching packages\u001b[22m ────────────────────────────────────── tidymodels 0.1.1 ──\n",
      "\n",
      "\u001b[32m✔\u001b[39m \u001b[34mbroom    \u001b[39m 0.7.0      \u001b[32m✔\u001b[39m \u001b[34mrecipes  \u001b[39m 0.1.13\n",
      "\u001b[32m✔\u001b[39m \u001b[34mdials    \u001b[39m 0.0.8      \u001b[32m✔\u001b[39m \u001b[34mrsample  \u001b[39m 0.0.7 \n",
      "\u001b[32m✔\u001b[39m \u001b[34minfer    \u001b[39m 0.5.3      \u001b[32m✔\u001b[39m \u001b[34mtune     \u001b[39m 0.1.1 \n",
      "\u001b[32m✔\u001b[39m \u001b[34mmodeldata\u001b[39m 0.0.2      \u001b[32m✔\u001b[39m \u001b[34mworkflows\u001b[39m 0.1.3 \n",
      "\u001b[32m✔\u001b[39m \u001b[34mparsnip  \u001b[39m 0.1.3      \u001b[32m✔\u001b[39m \u001b[34myardstick\u001b[39m 0.0.7 \n",
      "\n",
      "Warning message:\n",
      "“package ‘broom’ was built under R version 4.0.2”\n",
      "Warning message:\n",
      "“package ‘dials’ was built under R version 4.0.2”\n",
      "Warning message:\n",
      "“package ‘infer’ was built under R version 4.0.2”\n",
      "Warning message:\n",
      "“package ‘modeldata’ was built under R version 4.0.1”\n",
      "Warning message:\n",
      "“package ‘parsnip’ was built under R version 4.0.2”\n",
      "Warning message:\n",
      "“package ‘recipes’ was built under R version 4.0.1”\n",
      "Warning message:\n",
      "“package ‘tune’ was built under R version 4.0.2”\n",
      "Warning message:\n",
      "“package ‘workflows’ was built under R version 4.0.2”\n",
      "Warning message:\n",
      "“package ‘yardstick’ was built under R version 4.0.2”\n",
      "── \u001b[1mConflicts\u001b[22m ───────────────────────────────────────── tidymodels_conflicts() ──\n",
      "\u001b[31m✖\u001b[39m \u001b[34mscales\u001b[39m::\u001b[32mdiscard()\u001b[39m masks \u001b[34mpurrr\u001b[39m::discard()\n",
      "\u001b[31m✖\u001b[39m \u001b[34mdplyr\u001b[39m::\u001b[32mfilter()\u001b[39m   masks \u001b[34mstats\u001b[39m::filter()\n",
      "\u001b[31m✖\u001b[39m \u001b[34mrecipes\u001b[39m::\u001b[32mfixed()\u001b[39m  masks \u001b[34mstringr\u001b[39m::fixed()\n",
      "\u001b[31m✖\u001b[39m \u001b[34mdplyr\u001b[39m::\u001b[32mlag()\u001b[39m      masks \u001b[34mstats\u001b[39m::lag()\n",
      "\u001b[31m✖\u001b[39m \u001b[34myardstick\u001b[39m::\u001b[32mspec()\u001b[39m masks \u001b[34mreadr\u001b[39m::spec()\n",
      "\u001b[31m✖\u001b[39m \u001b[34mrecipes\u001b[39m::\u001b[32mstep()\u001b[39m   masks \u001b[34mstats\u001b[39m::step()\n",
      "\n",
      "Updating HTML index of packages in '.Library'\n",
      "\n",
      "Making 'packages.html' ...\n",
      " done\n",
      "\n"
     ]
    }
   ],
   "source": [
    "library(tidyverse)\n",
    "library(tidymodels)\n",
    "library(repr)\n",
    "install.packages('gsheet')\n",
    "library(gsheet)"
   ]
  },
  {
   "cell_type": "code",
   "execution_count": 2,
   "metadata": {},
   "outputs": [
    {
     "name": "stderr",
     "output_type": "stream",
     "text": [
      "No encoding supplied: defaulting to UTF-8.\n",
      "\n"
     ]
    }
   ],
   "source": [
    "# download file and use proper varaible name\n",
    "kaggle <- \"https://docs.google.com/spreadsheets/d/17G-ujDXnOWzrayNUAV3lmsjhrwd3GPwIRC8_zQA1L8U/edit#gid=0\"\n",
    "\n",
    "doc <- gsheet2text(kaggle, format='csv')\n",
    "\n",
    "perf <- read_csv(file = doc) %>%\n",
    "               rename(\"parent_education\"= \"parental level of education\", \n",
    "               \"race_ethnicity\" = \"race/ethnicity\", \n",
    "               \"math_score\" = \"math score\", \n",
    "               \"reading_score\" = \"reading score\", \n",
    "               \"writing_score\" = \"writing score\",\n",
    "              \"test_prep_course\" = \"test preparation course\") %>% \n",
    "                mutate(gender = as_factor(gender))\n",
    "\n",
    "\n",
    "write_csv(perf,\"data/stu_perf.csv\")"
   ]
  },
  {
   "cell_type": "code",
   "execution_count": 3,
   "metadata": {},
   "outputs": [
    {
     "name": "stderr",
     "output_type": "stream",
     "text": [
      "Parsed with column specification:\n",
      "cols(\n",
      "  gender = \u001b[31mcol_character()\u001b[39m,\n",
      "  race_ethnicity = \u001b[31mcol_character()\u001b[39m,\n",
      "  parent_education = \u001b[31mcol_character()\u001b[39m,\n",
      "  lunch = \u001b[31mcol_character()\u001b[39m,\n",
      "  test_prep_course = \u001b[31mcol_character()\u001b[39m,\n",
      "  math_score = \u001b[32mcol_double()\u001b[39m,\n",
      "  reading_score = \u001b[32mcol_double()\u001b[39m,\n",
      "  writing_score = \u001b[32mcol_double()\u001b[39m\n",
      ")\n",
      "\n"
     ]
    },
    {
     "data": {
      "text/html": [
       "<table>\n",
       "<caption>A tibble: 6 × 8</caption>\n",
       "<thead>\n",
       "\t<tr><th scope=col>gender</th><th scope=col>race_ethnicity</th><th scope=col>parent_education</th><th scope=col>lunch</th><th scope=col>test_prep_course</th><th scope=col>math_score</th><th scope=col>reading_score</th><th scope=col>writing_score</th></tr>\n",
       "\t<tr><th scope=col>&lt;fct&gt;</th><th scope=col>&lt;chr&gt;</th><th scope=col>&lt;chr&gt;</th><th scope=col>&lt;chr&gt;</th><th scope=col>&lt;chr&gt;</th><th scope=col>&lt;dbl&gt;</th><th scope=col>&lt;dbl&gt;</th><th scope=col>&lt;dbl&gt;</th></tr>\n",
       "</thead>\n",
       "<tbody>\n",
       "\t<tr><td>female</td><td>group B</td><td>bachelor's degree </td><td>standard    </td><td>none     </td><td>72</td><td>72</td><td>74</td></tr>\n",
       "\t<tr><td>female</td><td>group C</td><td>some college      </td><td>standard    </td><td>completed</td><td>69</td><td>90</td><td>88</td></tr>\n",
       "\t<tr><td>female</td><td>group B</td><td>master's degree   </td><td>standard    </td><td>none     </td><td>90</td><td>95</td><td>93</td></tr>\n",
       "\t<tr><td>male  </td><td>group A</td><td>associate's degree</td><td>free/reduced</td><td>none     </td><td>47</td><td>57</td><td>44</td></tr>\n",
       "\t<tr><td>male  </td><td>group C</td><td>some college      </td><td>standard    </td><td>none     </td><td>76</td><td>78</td><td>75</td></tr>\n",
       "\t<tr><td>female</td><td>group B</td><td>associate's degree</td><td>standard    </td><td>none     </td><td>71</td><td>83</td><td>78</td></tr>\n",
       "</tbody>\n",
       "</table>\n"
      ],
      "text/latex": [
       "A tibble: 6 × 8\n",
       "\\begin{tabular}{llllllll}\n",
       " gender & race\\_ethnicity & parent\\_education & lunch & test\\_prep\\_course & math\\_score & reading\\_score & writing\\_score\\\\\n",
       " <fct> & <chr> & <chr> & <chr> & <chr> & <dbl> & <dbl> & <dbl>\\\\\n",
       "\\hline\n",
       "\t female & group B & bachelor's degree  & standard     & none      & 72 & 72 & 74\\\\\n",
       "\t female & group C & some college       & standard     & completed & 69 & 90 & 88\\\\\n",
       "\t female & group B & master's degree    & standard     & none      & 90 & 95 & 93\\\\\n",
       "\t male   & group A & associate's degree & free/reduced & none      & 47 & 57 & 44\\\\\n",
       "\t male   & group C & some college       & standard     & none      & 76 & 78 & 75\\\\\n",
       "\t female & group B & associate's degree & standard     & none      & 71 & 83 & 78\\\\\n",
       "\\end{tabular}\n"
      ],
      "text/markdown": [
       "\n",
       "A tibble: 6 × 8\n",
       "\n",
       "| gender &lt;fct&gt; | race_ethnicity &lt;chr&gt; | parent_education &lt;chr&gt; | lunch &lt;chr&gt; | test_prep_course &lt;chr&gt; | math_score &lt;dbl&gt; | reading_score &lt;dbl&gt; | writing_score &lt;dbl&gt; |\n",
       "|---|---|---|---|---|---|---|---|\n",
       "| female | group B | bachelor's degree  | standard     | none      | 72 | 72 | 74 |\n",
       "| female | group C | some college       | standard     | completed | 69 | 90 | 88 |\n",
       "| female | group B | master's degree    | standard     | none      | 90 | 95 | 93 |\n",
       "| male   | group A | associate's degree | free/reduced | none      | 47 | 57 | 44 |\n",
       "| male   | group C | some college       | standard     | none      | 76 | 78 | 75 |\n",
       "| female | group B | associate's degree | standard     | none      | 71 | 83 | 78 |\n",
       "\n"
      ],
      "text/plain": [
       "  gender race_ethnicity parent_education   lunch        test_prep_course\n",
       "1 female group B        bachelor's degree  standard     none            \n",
       "2 female group C        some college       standard     completed       \n",
       "3 female group B        master's degree    standard     none            \n",
       "4 male   group A        associate's degree free/reduced none            \n",
       "5 male   group C        some college       standard     none            \n",
       "6 female group B        associate's degree standard     none            \n",
       "  math_score reading_score writing_score\n",
       "1 72         72            74           \n",
       "2 69         90            88           \n",
       "3 90         95            93           \n",
       "4 47         57            44           \n",
       "5 76         78            75           \n",
       "6 71         83            78           "
      ]
     },
     "metadata": {},
     "output_type": "display_data"
    }
   ],
   "source": [
    "stu_perf = read_csv(\"data/stu_perf.csv\") %>% mutate(gender = as_factor(gender))\n",
    "head(stu_perf)"
   ]
  },
  {
   "cell_type": "markdown",
   "metadata": {},
   "source": [
    "# Initial data process"
   ]
  },
  {
   "cell_type": "code",
   "execution_count": 4,
   "metadata": {},
   "outputs": [],
   "source": [
    "# split into training set and set set\n",
    "set.seed(15)\n",
    "stuperf_split <- initial_split(stu_perf, prop = 0.75, strata = gender)\n",
    "stuperf_train <- training(stuperf_split)\n",
    "stuperf_test <- testing(stuperf_split)"
   ]
  },
  {
   "cell_type": "code",
   "execution_count": 5,
   "metadata": {},
   "outputs": [],
   "source": [
    "# cross-validation pre-processing\n",
    "stuperf_vfold = vfold_cv(stuperf_train,v=5,strata = gender)\n",
    "stuperf_vfold_10 = vfold_cv(stuperf_train,v=10,strata = gender)"
   ]
  },
  {
   "cell_type": "code",
   "execution_count": 6,
   "metadata": {},
   "outputs": [],
   "source": [
    "# knn spec\n",
    "knn_spec <- nearest_neighbor(weight_func = \"rectangular\", neighbors = tune()) %>%\n",
    "       set_engine(\"kknn\") %>%\n",
    "       set_mode(\"classification\")"
   ]
  },
  {
   "cell_type": "markdown",
   "metadata": {},
   "source": [
    "# Using math_score and writing_score to predict gender\n",
    "\n",
    "in this part, Using **mw** as suffix"
   ]
  },
  {
   "cell_type": "code",
   "execution_count": 7,
   "metadata": {},
   "outputs": [],
   "source": [
    "# recipe\n",
    "recipe_mw <- recipe(gender ~math_score+writing_score,data=stuperf_train) %>% \n",
    "                step_scale(all_predictors()) %>% step_center(all_predictors())"
   ]
  },
  {
   "cell_type": "code",
   "execution_count": 8,
   "metadata": {},
   "outputs": [],
   "source": [
    "# workflow\n",
    "workflow_mw <- workflow() %>% \n",
    "            add_recipe(recipe_mw) %>%\n",
    "            add_model(knn_spec)"
   ]
  },
  {
   "cell_type": "code",
   "execution_count": 9,
   "metadata": {},
   "outputs": [],
   "source": [
    "# parameter choosing using 5 vfold 10 grid\n",
    "tuningresult_mw <- workflow_mw %>% tune_grid(resamples = stuperf_vfold,grid = 10) %>% collect_metrics()"
   ]
  },
  {
   "cell_type": "code",
   "execution_count": 10,
   "metadata": {},
   "outputs": [
    {
     "data": {
      "text/html": [
       "<table>\n",
       "<caption>A tibble: 1 × 7</caption>\n",
       "<thead>\n",
       "\t<tr><th scope=col>neighbors</th><th scope=col>.metric</th><th scope=col>.estimator</th><th scope=col>mean</th><th scope=col>n</th><th scope=col>std_err</th><th scope=col>.config</th></tr>\n",
       "\t<tr><th scope=col>&lt;int&gt;</th><th scope=col>&lt;chr&gt;</th><th scope=col>&lt;chr&gt;</th><th scope=col>&lt;dbl&gt;</th><th scope=col>&lt;int&gt;</th><th scope=col>&lt;dbl&gt;</th><th scope=col>&lt;chr&gt;</th></tr>\n",
       "</thead>\n",
       "<tbody>\n",
       "\t<tr><td>12</td><td>accuracy</td><td>binary</td><td>0.8441293</td><td>5</td><td>0.009175212</td><td>Model08</td></tr>\n",
       "</tbody>\n",
       "</table>\n"
      ],
      "text/latex": [
       "A tibble: 1 × 7\n",
       "\\begin{tabular}{lllllll}\n",
       " neighbors & .metric & .estimator & mean & n & std\\_err & .config\\\\\n",
       " <int> & <chr> & <chr> & <dbl> & <int> & <dbl> & <chr>\\\\\n",
       "\\hline\n",
       "\t 12 & accuracy & binary & 0.8441293 & 5 & 0.009175212 & Model08\\\\\n",
       "\\end{tabular}\n"
      ],
      "text/markdown": [
       "\n",
       "A tibble: 1 × 7\n",
       "\n",
       "| neighbors &lt;int&gt; | .metric &lt;chr&gt; | .estimator &lt;chr&gt; | mean &lt;dbl&gt; | n &lt;int&gt; | std_err &lt;dbl&gt; | .config &lt;chr&gt; |\n",
       "|---|---|---|---|---|---|---|\n",
       "| 12 | accuracy | binary | 0.8441293 | 5 | 0.009175212 | Model08 |\n",
       "\n"
      ],
      "text/plain": [
       "  neighbors .metric  .estimator mean      n std_err     .config\n",
       "1 12        accuracy binary     0.8441293 5 0.009175212 Model08"
      ]
     },
     "metadata": {},
     "output_type": "display_data"
    }
   ],
   "source": [
    "# accuracies\n",
    "tuningacc_mw <- tuningresult_mw %>%\n",
    "                filter(.metric == 'accuracy') %>%\n",
    "                arrange(desc(mean))\n",
    "tuningacc_mw %>% head(1)"
   ]
  },
  {
   "cell_type": "code",
   "execution_count": 11,
   "metadata": {},
   "outputs": [],
   "source": [
    "# verify k using different k.\n",
    "ks_mw = tibble(neighbors = seq(from = 1, to = 30, by = 1))\n",
    "verifyresult_mw <- workflow_mw %>% tune_grid(resamples = stuperf_vfold,grid = ks_mw) %>% collect_metrics()"
   ]
  },
  {
   "cell_type": "code",
   "execution_count": 12,
   "metadata": {},
   "outputs": [
    {
     "data": {
      "image/png": "[encoded data removed]",
      "text/plain": [
       "plot without title"
      ]
     },
     "metadata": {
      "image/png": {
       "height": 420,
       "width": 420
      }
     },
     "output_type": "display_data"
    }
   ],
   "source": [
    "verifyacc_mw <- verifyresult_mw %>%\n",
    "                filter(.metric == 'accuracy')\n",
    "\n",
    "ggplot(verifyacc_mw, aes(x = neighbors, y = mean)) +\n",
    "  geom_point() +\n",
    "  geom_line() + \n",
    "  labs(x = 'Neighbors', y = 'Accuracy Estimate')"
   ]
  },
  {
   "cell_type": "code",
   "execution_count": 13,
   "metadata": {},
   "outputs": [
    {
     "data": {
      "text/html": [
       "<table>\n",
       "<caption>A tibble: 1 × 7</caption>\n",
       "<thead>\n",
       "\t<tr><th scope=col>neighbors</th><th scope=col>.metric</th><th scope=col>.estimator</th><th scope=col>mean</th><th scope=col>n</th><th scope=col>std_err</th><th scope=col>.config</th></tr>\n",
       "\t<tr><th scope=col>&lt;dbl&gt;</th><th scope=col>&lt;chr&gt;</th><th scope=col>&lt;chr&gt;</th><th scope=col>&lt;dbl&gt;</th><th scope=col>&lt;int&gt;</th><th scope=col>&lt;dbl&gt;</th><th scope=col>&lt;chr&gt;</th></tr>\n",
       "</thead>\n",
       "<tbody>\n",
       "\t<tr><td>18</td><td>accuracy</td><td>binary</td><td>0.8574183</td><td>5</td><td>0.01419836</td><td>Model18</td></tr>\n",
       "</tbody>\n",
       "</table>\n"
      ],
      "text/latex": [
       "A tibble: 1 × 7\n",
       "\\begin{tabular}{lllllll}\n",
       " neighbors & .metric & .estimator & mean & n & std\\_err & .config\\\\\n",
       " <dbl> & <chr> & <chr> & <dbl> & <int> & <dbl> & <chr>\\\\\n",
       "\\hline\n",
       "\t 18 & accuracy & binary & 0.8574183 & 5 & 0.01419836 & Model18\\\\\n",
       "\\end{tabular}\n"
      ],
      "text/markdown": [
       "\n",
       "A tibble: 1 × 7\n",
       "\n",
       "| neighbors &lt;dbl&gt; | .metric &lt;chr&gt; | .estimator &lt;chr&gt; | mean &lt;dbl&gt; | n &lt;int&gt; | std_err &lt;dbl&gt; | .config &lt;chr&gt; |\n",
       "|---|---|---|---|---|---|---|\n",
       "| 18 | accuracy | binary | 0.8574183 | 5 | 0.01419836 | Model18 |\n",
       "\n"
      ],
      "text/plain": [
       "  neighbors .metric  .estimator mean      n std_err    .config\n",
       "1 18        accuracy binary     0.8574183 5 0.01419836 Model18"
      ]
     },
     "metadata": {},
     "output_type": "display_data"
    }
   ],
   "source": [
    "verifyacc_mw %>% arrange(desc(mean))%>% head(1)"
   ]
  },
  {
   "cell_type": "code",
   "execution_count": 27,
   "metadata": {},
   "outputs": [],
   "source": [
    "# define best knn workflow\n",
    "knn_spec_12_mw <- nearest_neighbor(weight_func = \"rectangular\", neighbors = 12) %>%\n",
    "       set_engine(\"kknn\") %>%\n",
    "       set_mode(\"classification\")\n",
    "workflow_12_mw <- workflow() %>% add_recipe(recipe_mw) %>% add_model(knn_spec_12_mw)\n",
    "\n",
    "knn_spec_18_mw <- nearest_neighbor(weight_func = \"rectangular\", neighbors = 18) %>%\n",
    "       set_engine(\"kknn\") %>%\n",
    "       set_mode(\"classification\")\n",
    "workflow_18_mw <- workflow() %>% add_recipe(recipe_mw) %>% add_model(knn_spec_18_mw)"
   ]
  },
  {
   "cell_type": "code",
   "execution_count": 28,
   "metadata": {},
   "outputs": [
    {
     "data": {
      "text/html": [
       "<table>\n",
       "<caption>A tibble: 6 × 9</caption>\n",
       "<thead>\n",
       "\t<tr><th scope=col>.pred_class</th><th scope=col>gender</th><th scope=col>race_ethnicity</th><th scope=col>parent_education</th><th scope=col>lunch</th><th scope=col>test_prep_course</th><th scope=col>math_score</th><th scope=col>reading_score</th><th scope=col>writing_score</th></tr>\n",
       "\t<tr><th scope=col>&lt;fct&gt;</th><th scope=col>&lt;fct&gt;</th><th scope=col>&lt;chr&gt;</th><th scope=col>&lt;chr&gt;</th><th scope=col>&lt;chr&gt;</th><th scope=col>&lt;chr&gt;</th><th scope=col>&lt;dbl&gt;</th><th scope=col>&lt;dbl&gt;</th><th scope=col>&lt;dbl&gt;</th></tr>\n",
       "</thead>\n",
       "<tbody>\n",
       "\t<tr><td>female</td><td>female</td><td>group C</td><td>some college      </td><td>standard    </td><td>completed</td><td>69</td><td>90</td><td>88</td></tr>\n",
       "\t<tr><td>male  </td><td>male  </td><td>group A</td><td>associate's degree</td><td>free/reduced</td><td>none     </td><td>47</td><td>57</td><td>44</td></tr>\n",
       "\t<tr><td>female</td><td>female</td><td>group B</td><td>high school       </td><td>free/reduced</td><td>none     </td><td>38</td><td>60</td><td>50</td></tr>\n",
       "\t<tr><td>female</td><td>female</td><td>group B</td><td>high school       </td><td>standard    </td><td>none     </td><td>65</td><td>81</td><td>73</td></tr>\n",
       "\t<tr><td>male  </td><td>male  </td><td>group C</td><td>high school       </td><td>standard    </td><td>none     </td><td>88</td><td>89</td><td>86</td></tr>\n",
       "\t<tr><td>female</td><td>female</td><td>group B</td><td>some high school  </td><td>free/reduced</td><td>none     </td><td>18</td><td>32</td><td>28</td></tr>\n",
       "</tbody>\n",
       "</table>\n"
      ],
      "text/latex": [
       "A tibble: 6 × 9\n",
       "\\begin{tabular}{lllllllll}\n",
       " .pred\\_class & gender & race\\_ethnicity & parent\\_education & lunch & test\\_prep\\_course & math\\_score & reading\\_score & writing\\_score\\\\\n",
       " <fct> & <fct> & <chr> & <chr> & <chr> & <chr> & <dbl> & <dbl> & <dbl>\\\\\n",
       "\\hline\n",
       "\t female & female & group C & some college       & standard     & completed & 69 & 90 & 88\\\\\n",
       "\t male   & male   & group A & associate's degree & free/reduced & none      & 47 & 57 & 44\\\\\n",
       "\t female & female & group B & high school        & free/reduced & none      & 38 & 60 & 50\\\\\n",
       "\t female & female & group B & high school        & standard     & none      & 65 & 81 & 73\\\\\n",
       "\t male   & male   & group C & high school        & standard     & none      & 88 & 89 & 86\\\\\n",
       "\t female & female & group B & some high school   & free/reduced & none      & 18 & 32 & 28\\\\\n",
       "\\end{tabular}\n"
      ],
      "text/markdown": [
       "\n",
       "A tibble: 6 × 9\n",
       "\n",
       "| .pred_class &lt;fct&gt; | gender &lt;fct&gt; | race_ethnicity &lt;chr&gt; | parent_education &lt;chr&gt; | lunch &lt;chr&gt; | test_prep_course &lt;chr&gt; | math_score &lt;dbl&gt; | reading_score &lt;dbl&gt; | writing_score &lt;dbl&gt; |\n",
       "|---|---|---|---|---|---|---|---|---|\n",
       "| female | female | group C | some college       | standard     | completed | 69 | 90 | 88 |\n",
       "| male   | male   | group A | associate's degree | free/reduced | none      | 47 | 57 | 44 |\n",
       "| female | female | group B | high school        | free/reduced | none      | 38 | 60 | 50 |\n",
       "| female | female | group B | high school        | standard     | none      | 65 | 81 | 73 |\n",
       "| male   | male   | group C | high school        | standard     | none      | 88 | 89 | 86 |\n",
       "| female | female | group B | some high school   | free/reduced | none      | 18 | 32 | 28 |\n",
       "\n"
      ],
      "text/plain": [
       "  .pred_class gender race_ethnicity parent_education   lunch       \n",
       "1 female      female group C        some college       standard    \n",
       "2 male        male   group A        associate's degree free/reduced\n",
       "3 female      female group B        high school        free/reduced\n",
       "4 female      female group B        high school        standard    \n",
       "5 male        male   group C        high school        standard    \n",
       "6 female      female group B        some high school   free/reduced\n",
       "  test_prep_course math_score reading_score writing_score\n",
       "1 completed        69         90            88           \n",
       "2 none             47         57            44           \n",
       "3 none             38         60            50           \n",
       "4 none             65         81            73           \n",
       "5 none             88         89            86           \n",
       "6 none             18         32            28           "
      ]
     },
     "metadata": {},
     "output_type": "display_data"
    },
    {
     "data": {
      "text/plain": [
       "$table\n",
       "          Truth\n",
       "Prediction female male\n",
       "    female    118   17\n",
       "    male       11  103\n",
       "\n",
       "$dots\n",
       "list()\n"
      ]
     },
     "metadata": {},
     "output_type": "display_data"
    },
    {
     "data": {
      "text/html": [
       "<table>\n",
       "<caption>A tibble: 2 × 3</caption>\n",
       "<thead>\n",
       "\t<tr><th scope=col>.metric</th><th scope=col>.estimator</th><th scope=col>.estimate</th></tr>\n",
       "\t<tr><th scope=col>&lt;chr&gt;</th><th scope=col>&lt;chr&gt;</th><th scope=col>&lt;dbl&gt;</th></tr>\n",
       "</thead>\n",
       "<tbody>\n",
       "\t<tr><td>accuracy</td><td>binary</td><td>0.8875502</td></tr>\n",
       "\t<tr><td>kap     </td><td>binary</td><td>0.7744127</td></tr>\n",
       "</tbody>\n",
       "</table>\n"
      ],
      "text/latex": [
       "A tibble: 2 × 3\n",
       "\\begin{tabular}{lll}\n",
       " .metric & .estimator & .estimate\\\\\n",
       " <chr> & <chr> & <dbl>\\\\\n",
       "\\hline\n",
       "\t accuracy & binary & 0.8875502\\\\\n",
       "\t kap      & binary & 0.7744127\\\\\n",
       "\\end{tabular}\n"
      ],
      "text/markdown": [
       "\n",
       "A tibble: 2 × 3\n",
       "\n",
       "| .metric &lt;chr&gt; | .estimator &lt;chr&gt; | .estimate &lt;dbl&gt; |\n",
       "|---|---|---|\n",
       "| accuracy | binary | 0.8875502 |\n",
       "| kap      | binary | 0.7744127 |\n",
       "\n"
      ],
      "text/plain": [
       "  .metric  .estimator .estimate\n",
       "1 accuracy binary     0.8875502\n",
       "2 kap      binary     0.7744127"
      ]
     },
     "metadata": {},
     "output_type": "display_data"
    }
   ],
   "source": [
    "# 12 neighbor result\n",
    "fit12_mw <- workflow_12_mw %>% fit(data=stuperf_train)\n",
    "predict12_mw <- fit12_mw %>% predict(stuperf_test) %>% bind_cols(stuperf_test)\n",
    "result12_mw <- predict12_mw %>% metrics(truth = gender,estimate = .pred_class)\n",
    "result12_conf_mw <- predict12_mw %>% conf_mat(truth = gender, estimate = .pred_class)\n",
    "head(predict12_mw)\n",
    "head(result12_conf_mw)\n",
    "head(result12_mw)"
   ]
  },
  {
   "cell_type": "code",
   "execution_count": 24,
   "metadata": {},
   "outputs": [
    {
     "data": {
      "text/html": [
       "<table>\n",
       "<caption>A tibble: 6 × 9</caption>\n",
       "<thead>\n",
       "\t<tr><th scope=col>.pred_class</th><th scope=col>gender</th><th scope=col>race_ethnicity</th><th scope=col>parent_education</th><th scope=col>lunch</th><th scope=col>test_prep_course</th><th scope=col>math_score</th><th scope=col>reading_score</th><th scope=col>writing_score</th></tr>\n",
       "\t<tr><th scope=col>&lt;fct&gt;</th><th scope=col>&lt;fct&gt;</th><th scope=col>&lt;chr&gt;</th><th scope=col>&lt;chr&gt;</th><th scope=col>&lt;chr&gt;</th><th scope=col>&lt;chr&gt;</th><th scope=col>&lt;dbl&gt;</th><th scope=col>&lt;dbl&gt;</th><th scope=col>&lt;dbl&gt;</th></tr>\n",
       "</thead>\n",
       "<tbody>\n",
       "\t<tr><td>female</td><td>female</td><td>group C</td><td>some college      </td><td>standard    </td><td>completed</td><td>69</td><td>90</td><td>88</td></tr>\n",
       "\t<tr><td>male  </td><td>male  </td><td>group A</td><td>associate's degree</td><td>free/reduced</td><td>none     </td><td>47</td><td>57</td><td>44</td></tr>\n",
       "\t<tr><td>female</td><td>female</td><td>group B</td><td>high school       </td><td>free/reduced</td><td>none     </td><td>38</td><td>60</td><td>50</td></tr>\n",
       "\t<tr><td>female</td><td>female</td><td>group B</td><td>high school       </td><td>standard    </td><td>none     </td><td>65</td><td>81</td><td>73</td></tr>\n",
       "\t<tr><td>male  </td><td>male  </td><td>group C</td><td>high school       </td><td>standard    </td><td>none     </td><td>88</td><td>89</td><td>86</td></tr>\n",
       "\t<tr><td>female</td><td>female</td><td>group B</td><td>some high school  </td><td>free/reduced</td><td>none     </td><td>18</td><td>32</td><td>28</td></tr>\n",
       "</tbody>\n",
       "</table>\n"
      ],
      "text/latex": [
       "A tibble: 6 × 9\n",
       "\\begin{tabular}{lllllllll}\n",
       " .pred\\_class & gender & race\\_ethnicity & parent\\_education & lunch & test\\_prep\\_course & math\\_score & reading\\_score & writing\\_score\\\\\n",
       " <fct> & <fct> & <chr> & <chr> & <chr> & <chr> & <dbl> & <dbl> & <dbl>\\\\\n",
       "\\hline\n",
       "\t female & female & group C & some college       & standard     & completed & 69 & 90 & 88\\\\\n",
       "\t male   & male   & group A & associate's degree & free/reduced & none      & 47 & 57 & 44\\\\\n",
       "\t female & female & group B & high school        & free/reduced & none      & 38 & 60 & 50\\\\\n",
       "\t female & female & group B & high school        & standard     & none      & 65 & 81 & 73\\\\\n",
       "\t male   & male   & group C & high school        & standard     & none      & 88 & 89 & 86\\\\\n",
       "\t female & female & group B & some high school   & free/reduced & none      & 18 & 32 & 28\\\\\n",
       "\\end{tabular}\n"
      ],
      "text/markdown": [
       "\n",
       "A tibble: 6 × 9\n",
       "\n",
       "| .pred_class &lt;fct&gt; | gender &lt;fct&gt; | race_ethnicity &lt;chr&gt; | parent_education &lt;chr&gt; | lunch &lt;chr&gt; | test_prep_course &lt;chr&gt; | math_score &lt;dbl&gt; | reading_score &lt;dbl&gt; | writing_score &lt;dbl&gt; |\n",
       "|---|---|---|---|---|---|---|---|---|\n",
       "| female | female | group C | some college       | standard     | completed | 69 | 90 | 88 |\n",
       "| male   | male   | group A | associate's degree | free/reduced | none      | 47 | 57 | 44 |\n",
       "| female | female | group B | high school        | free/reduced | none      | 38 | 60 | 50 |\n",
       "| female | female | group B | high school        | standard     | none      | 65 | 81 | 73 |\n",
       "| male   | male   | group C | high school        | standard     | none      | 88 | 89 | 86 |\n",
       "| female | female | group B | some high school   | free/reduced | none      | 18 | 32 | 28 |\n",
       "\n"
      ],
      "text/plain": [
       "  .pred_class gender race_ethnicity parent_education   lunch       \n",
       "1 female      female group C        some college       standard    \n",
       "2 male        male   group A        associate's degree free/reduced\n",
       "3 female      female group B        high school        free/reduced\n",
       "4 female      female group B        high school        standard    \n",
       "5 male        male   group C        high school        standard    \n",
       "6 female      female group B        some high school   free/reduced\n",
       "  test_prep_course math_score reading_score writing_score\n",
       "1 completed        69         90            88           \n",
       "2 none             47         57            44           \n",
       "3 none             38         60            50           \n",
       "4 none             65         81            73           \n",
       "5 none             88         89            86           \n",
       "6 none             18         32            28           "
      ]
     },
     "metadata": {},
     "output_type": "display_data"
    },
    {
     "data": {
      "text/plain": [
       "$table\n",
       "          Truth\n",
       "Prediction female male\n",
       "    female    121   16\n",
       "    male        8  104\n",
       "\n",
       "$dots\n",
       "list()\n"
      ]
     },
     "metadata": {},
     "output_type": "display_data"
    },
    {
     "data": {
      "text/html": [
       "<table>\n",
       "<caption>A tibble: 2 × 3</caption>\n",
       "<thead>\n",
       "\t<tr><th scope=col>.metric</th><th scope=col>.estimator</th><th scope=col>.estimate</th></tr>\n",
       "\t<tr><th scope=col>&lt;chr&gt;</th><th scope=col>&lt;chr&gt;</th><th scope=col>&lt;dbl&gt;</th></tr>\n",
       "</thead>\n",
       "<tbody>\n",
       "\t<tr><td>accuracy</td><td>binary</td><td>0.9036145</td></tr>\n",
       "\t<tr><td>kap     </td><td>binary</td><td>0.8065268</td></tr>\n",
       "</tbody>\n",
       "</table>\n"
      ],
      "text/latex": [
       "A tibble: 2 × 3\n",
       "\\begin{tabular}{lll}\n",
       " .metric & .estimator & .estimate\\\\\n",
       " <chr> & <chr> & <dbl>\\\\\n",
       "\\hline\n",
       "\t accuracy & binary & 0.9036145\\\\\n",
       "\t kap      & binary & 0.8065268\\\\\n",
       "\\end{tabular}\n"
      ],
      "text/markdown": [
       "\n",
       "A tibble: 2 × 3\n",
       "\n",
       "| .metric &lt;chr&gt; | .estimator &lt;chr&gt; | .estimate &lt;dbl&gt; |\n",
       "|---|---|---|\n",
       "| accuracy | binary | 0.9036145 |\n",
       "| kap      | binary | 0.8065268 |\n",
       "\n"
      ],
      "text/plain": [
       "  .metric  .estimator .estimate\n",
       "1 accuracy binary     0.9036145\n",
       "2 kap      binary     0.8065268"
      ]
     },
     "metadata": {},
     "output_type": "display_data"
    }
   ],
   "source": [
    "# 18 neighbor result\n",
    "fit18_mw <- workflow_18_mw %>% fit(data=stuperf_train)\n",
    "predict18_mw <- fit18_mw %>% predict(stuperf_test) %>% bind_cols(stuperf_test)\n",
    "result18_mw <- predict18_mw %>% metrics(truth = gender,estimate = .pred_class)\n",
    "result18_conf_mw <- predict18_mw %>% conf_mat(truth = gender, estimate = .pred_class)\n",
    "head(predict18_mw)\n",
    "head(result18_conf_mw)\n",
    "head(result18_mw)"
   ]
  },
  {
   "cell_type": "markdown",
   "metadata": {},
   "source": [
    "# Using all score to predict gender\n",
    "\n",
    "in this part, Using **as** as suffix"
   ]
  },
  {
   "cell_type": "code",
   "execution_count": 30,
   "metadata": {},
   "outputs": [],
   "source": [
    "# recipe\n",
    "recipe_as <- recipe(gender ~math_score+writing_score+reading_score,data=stuperf_train) %>% \n",
    "                step_scale(all_predictors()) %>% step_center(all_predictors())\n",
    "# workflow\n",
    "workflow_as <- workflow() %>% \n",
    "            add_recipe(recipe_as) %>%\n",
    "            add_model(knn_spec)"
   ]
  },
  {
   "cell_type": "code",
   "execution_count": 31,
   "metadata": {},
   "outputs": [],
   "source": [
    "# tuning to find best k\n",
    "ks_as = tibble(neighbors = seq(from = 1, to = 30, by = 1))\n",
    "tuningresult_as <- workflow_as %>% tune_grid(resamples = stuperf_vfold,grid = ks_as) %>% collect_metrics()"
   ]
  },
  {
   "cell_type": "code",
   "execution_count": 34,
   "metadata": {},
   "outputs": [
    {
     "data": {
      "image/png": "[encoded data removed]",
      "text/plain": [
       "plot without title"
      ]
     },
     "metadata": {
      "image/png": {
       "height": 420,
       "width": 420
      }
     },
     "output_type": "display_data"
    }
   ],
   "source": [
    "tuningacc_as <- tuningresult_as %>%\n",
    "                filter(.metric == 'accuracy')\n",
    "\n",
    "ggplot(tuningacc_as, aes(x = neighbors, y = mean)) +\n",
    "  geom_point() +\n",
    "  geom_line() + \n",
    "  labs(x = 'Neighbors', y = 'Accuracy Estimate')"
   ]
  },
  {
   "cell_type": "code",
   "execution_count": 35,
   "metadata": {},
   "outputs": [
    {
     "data": {
      "text/html": [
       "<table>\n",
       "<caption>A tibble: 1 × 7</caption>\n",
       "<thead>\n",
       "\t<tr><th scope=col>neighbors</th><th scope=col>.metric</th><th scope=col>.estimator</th><th scope=col>mean</th><th scope=col>n</th><th scope=col>std_err</th><th scope=col>.config</th></tr>\n",
       "\t<tr><th scope=col>&lt;dbl&gt;</th><th scope=col>&lt;chr&gt;</th><th scope=col>&lt;chr&gt;</th><th scope=col>&lt;dbl&gt;</th><th scope=col>&lt;int&gt;</th><th scope=col>&lt;dbl&gt;</th><th scope=col>&lt;chr&gt;</th></tr>\n",
       "</thead>\n",
       "<tbody>\n",
       "\t<tr><td>22</td><td>accuracy</td><td>binary</td><td>0.8480935</td><td>5</td><td>0.01829598</td><td>Model22</td></tr>\n",
       "</tbody>\n",
       "</table>\n"
      ],
      "text/latex": [
       "A tibble: 1 × 7\n",
       "\\begin{tabular}{lllllll}\n",
       " neighbors & .metric & .estimator & mean & n & std\\_err & .config\\\\\n",
       " <dbl> & <chr> & <chr> & <dbl> & <int> & <dbl> & <chr>\\\\\n",
       "\\hline\n",
       "\t 22 & accuracy & binary & 0.8480935 & 5 & 0.01829598 & Model22\\\\\n",
       "\\end{tabular}\n"
      ],
      "text/markdown": [
       "\n",
       "A tibble: 1 × 7\n",
       "\n",
       "| neighbors &lt;dbl&gt; | .metric &lt;chr&gt; | .estimator &lt;chr&gt; | mean &lt;dbl&gt; | n &lt;int&gt; | std_err &lt;dbl&gt; | .config &lt;chr&gt; |\n",
       "|---|---|---|---|---|---|---|\n",
       "| 22 | accuracy | binary | 0.8480935 | 5 | 0.01829598 | Model22 |\n",
       "\n"
      ],
      "text/plain": [
       "  neighbors .metric  .estimator mean      n std_err    .config\n",
       "1 22        accuracy binary     0.8480935 5 0.01829598 Model22"
      ]
     },
     "metadata": {},
     "output_type": "display_data"
    }
   ],
   "source": [
    "tuningacc_as %>% arrange(desc(mean))%>% head(1)"
   ]
  },
  {
   "cell_type": "code",
   "execution_count": 38,
   "metadata": {},
   "outputs": [],
   "source": [
    "# define best knn workflow\n",
    "knn_spec_as <- nearest_neighbor(weight_func = \"rectangular\", neighbors = 22) %>%\n",
    "       set_engine(\"kknn\") %>%\n",
    "       set_mode(\"classification\")\n",
    "workflow22_as <- workflow() %>% add_recipe(recipe_as) %>% add_model(knn_spec_as)"
   ]
  },
  {
   "cell_type": "code",
   "execution_count": 40,
   "metadata": {},
   "outputs": [
    {
     "data": {
      "text/html": [
       "<table>\n",
       "<caption>A tibble: 6 × 9</caption>\n",
       "<thead>\n",
       "\t<tr><th scope=col>.pred_class</th><th scope=col>gender</th><th scope=col>race_ethnicity</th><th scope=col>parent_education</th><th scope=col>lunch</th><th scope=col>test_prep_course</th><th scope=col>math_score</th><th scope=col>reading_score</th><th scope=col>writing_score</th></tr>\n",
       "\t<tr><th scope=col>&lt;fct&gt;</th><th scope=col>&lt;fct&gt;</th><th scope=col>&lt;chr&gt;</th><th scope=col>&lt;chr&gt;</th><th scope=col>&lt;chr&gt;</th><th scope=col>&lt;chr&gt;</th><th scope=col>&lt;dbl&gt;</th><th scope=col>&lt;dbl&gt;</th><th scope=col>&lt;dbl&gt;</th></tr>\n",
       "</thead>\n",
       "<tbody>\n",
       "\t<tr><td>female</td><td>female</td><td>group C</td><td>some college      </td><td>standard    </td><td>completed</td><td>69</td><td>90</td><td>88</td></tr>\n",
       "\t<tr><td>male  </td><td>male  </td><td>group A</td><td>associate's degree</td><td>free/reduced</td><td>none     </td><td>47</td><td>57</td><td>44</td></tr>\n",
       "\t<tr><td>female</td><td>female</td><td>group B</td><td>high school       </td><td>free/reduced</td><td>none     </td><td>38</td><td>60</td><td>50</td></tr>\n",
       "\t<tr><td>female</td><td>female</td><td>group B</td><td>high school       </td><td>standard    </td><td>none     </td><td>65</td><td>81</td><td>73</td></tr>\n",
       "\t<tr><td>male  </td><td>male  </td><td>group C</td><td>high school       </td><td>standard    </td><td>none     </td><td>88</td><td>89</td><td>86</td></tr>\n",
       "\t<tr><td>female</td><td>female</td><td>group B</td><td>some high school  </td><td>free/reduced</td><td>none     </td><td>18</td><td>32</td><td>28</td></tr>\n",
       "</tbody>\n",
       "</table>\n"
      ],
      "text/latex": [
       "A tibble: 6 × 9\n",
       "\\begin{tabular}{lllllllll}\n",
       " .pred\\_class & gender & race\\_ethnicity & parent\\_education & lunch & test\\_prep\\_course & math\\_score & reading\\_score & writing\\_score\\\\\n",
       " <fct> & <fct> & <chr> & <chr> & <chr> & <chr> & <dbl> & <dbl> & <dbl>\\\\\n",
       "\\hline\n",
       "\t female & female & group C & some college       & standard     & completed & 69 & 90 & 88\\\\\n",
       "\t male   & male   & group A & associate's degree & free/reduced & none      & 47 & 57 & 44\\\\\n",
       "\t female & female & group B & high school        & free/reduced & none      & 38 & 60 & 50\\\\\n",
       "\t female & female & group B & high school        & standard     & none      & 65 & 81 & 73\\\\\n",
       "\t male   & male   & group C & high school        & standard     & none      & 88 & 89 & 86\\\\\n",
       "\t female & female & group B & some high school   & free/reduced & none      & 18 & 32 & 28\\\\\n",
       "\\end{tabular}\n"
      ],
      "text/markdown": [
       "\n",
       "A tibble: 6 × 9\n",
       "\n",
       "| .pred_class &lt;fct&gt; | gender &lt;fct&gt; | race_ethnicity &lt;chr&gt; | parent_education &lt;chr&gt; | lunch &lt;chr&gt; | test_prep_course &lt;chr&gt; | math_score &lt;dbl&gt; | reading_score &lt;dbl&gt; | writing_score &lt;dbl&gt; |\n",
       "|---|---|---|---|---|---|---|---|---|\n",
       "| female | female | group C | some college       | standard     | completed | 69 | 90 | 88 |\n",
       "| male   | male   | group A | associate's degree | free/reduced | none      | 47 | 57 | 44 |\n",
       "| female | female | group B | high school        | free/reduced | none      | 38 | 60 | 50 |\n",
       "| female | female | group B | high school        | standard     | none      | 65 | 81 | 73 |\n",
       "| male   | male   | group C | high school        | standard     | none      | 88 | 89 | 86 |\n",
       "| female | female | group B | some high school   | free/reduced | none      | 18 | 32 | 28 |\n",
       "\n"
      ],
      "text/plain": [
       "  .pred_class gender race_ethnicity parent_education   lunch       \n",
       "1 female      female group C        some college       standard    \n",
       "2 male        male   group A        associate's degree free/reduced\n",
       "3 female      female group B        high school        free/reduced\n",
       "4 female      female group B        high school        standard    \n",
       "5 male        male   group C        high school        standard    \n",
       "6 female      female group B        some high school   free/reduced\n",
       "  test_prep_course math_score reading_score writing_score\n",
       "1 completed        69         90            88           \n",
       "2 none             47         57            44           \n",
       "3 none             38         60            50           \n",
       "4 none             65         81            73           \n",
       "5 none             88         89            86           \n",
       "6 none             18         32            28           "
      ]
     },
     "metadata": {},
     "output_type": "display_data"
    },
    {
     "data": {
      "text/plain": [
       "$table\n",
       "          Truth\n",
       "Prediction female male\n",
       "    female    120   13\n",
       "    male        9  107\n",
       "\n",
       "$dots\n",
       "list()\n"
      ]
     },
     "metadata": {},
     "output_type": "display_data"
    },
    {
     "data": {
      "text/html": [
       "<table>\n",
       "<caption>A tibble: 2 × 3</caption>\n",
       "<thead>\n",
       "\t<tr><th scope=col>.metric</th><th scope=col>.estimator</th><th scope=col>.estimate</th></tr>\n",
       "\t<tr><th scope=col>&lt;chr&gt;</th><th scope=col>&lt;chr&gt;</th><th scope=col>&lt;dbl&gt;</th></tr>\n",
       "</thead>\n",
       "<tbody>\n",
       "\t<tr><td>accuracy</td><td>binary</td><td>0.9116466</td></tr>\n",
       "\t<tr><td>kap     </td><td>binary</td><td>0.8228560</td></tr>\n",
       "</tbody>\n",
       "</table>\n"
      ],
      "text/latex": [
       "A tibble: 2 × 3\n",
       "\\begin{tabular}{lll}\n",
       " .metric & .estimator & .estimate\\\\\n",
       " <chr> & <chr> & <dbl>\\\\\n",
       "\\hline\n",
       "\t accuracy & binary & 0.9116466\\\\\n",
       "\t kap      & binary & 0.8228560\\\\\n",
       "\\end{tabular}\n"
      ],
      "text/markdown": [
       "\n",
       "A tibble: 2 × 3\n",
       "\n",
       "| .metric &lt;chr&gt; | .estimator &lt;chr&gt; | .estimate &lt;dbl&gt; |\n",
       "|---|---|---|\n",
       "| accuracy | binary | 0.9116466 |\n",
       "| kap      | binary | 0.8228560 |\n",
       "\n"
      ],
      "text/plain": [
       "  .metric  .estimator .estimate\n",
       "1 accuracy binary     0.9116466\n",
       "2 kap      binary     0.8228560"
      ]
     },
     "metadata": {},
     "output_type": "display_data"
    }
   ],
   "source": [
    "# result\n",
    "fit22_as <- workflow22_as %>% fit(data=stuperf_train)\n",
    "predict22_as <- fit22_as %>% predict(stuperf_test) %>% bind_cols(stuperf_test)\n",
    "result22_as <- predict22_as %>% metrics(truth = gender,estimate = .pred_class)\n",
    "result22_conf_as <- predict22_as %>% conf_mat(truth = gender, estimate = .pred_class)\n",
    "head(predict22_as)\n",
    "head(result22_conf_as)\n",
    "head(result22_as)"
   ]
  },
  {
   "cell_type": "markdown",
   "metadata": {},
   "source": [
    "# Using all variable to predict gender\n",
    "\n",
    "in this part, Using **all** as suffix"
   ]
  },
  {
   "cell_type": "code",
   "execution_count": 41,
   "metadata": {},
   "outputs": [
    {
     "data": {
      "text/html": [
       "<table>\n",
       "<caption>A tibble: 6 × 8</caption>\n",
       "<thead>\n",
       "\t<tr><th scope=col>gender</th><th scope=col>race_ethnicity</th><th scope=col>parent_education</th><th scope=col>lunch</th><th scope=col>test_prep_course</th><th scope=col>math_score</th><th scope=col>reading_score</th><th scope=col>writing_score</th></tr>\n",
       "\t<tr><th scope=col>&lt;fct&gt;</th><th scope=col>&lt;chr&gt;</th><th scope=col>&lt;chr&gt;</th><th scope=col>&lt;chr&gt;</th><th scope=col>&lt;chr&gt;</th><th scope=col>&lt;dbl&gt;</th><th scope=col>&lt;dbl&gt;</th><th scope=col>&lt;dbl&gt;</th></tr>\n",
       "</thead>\n",
       "<tbody>\n",
       "\t<tr><td>female</td><td>group B</td><td>bachelor's degree </td><td>standard    </td><td>none     </td><td>72</td><td>72</td><td>74</td></tr>\n",
       "\t<tr><td>female</td><td>group C</td><td>some college      </td><td>standard    </td><td>completed</td><td>69</td><td>90</td><td>88</td></tr>\n",
       "\t<tr><td>female</td><td>group B</td><td>master's degree   </td><td>standard    </td><td>none     </td><td>90</td><td>95</td><td>93</td></tr>\n",
       "\t<tr><td>male  </td><td>group A</td><td>associate's degree</td><td>free/reduced</td><td>none     </td><td>47</td><td>57</td><td>44</td></tr>\n",
       "\t<tr><td>male  </td><td>group C</td><td>some college      </td><td>standard    </td><td>none     </td><td>76</td><td>78</td><td>75</td></tr>\n",
       "\t<tr><td>female</td><td>group B</td><td>associate's degree</td><td>standard    </td><td>none     </td><td>71</td><td>83</td><td>78</td></tr>\n",
       "</tbody>\n",
       "</table>\n"
      ],
      "text/latex": [
       "A tibble: 6 × 8\n",
       "\\begin{tabular}{llllllll}\n",
       " gender & race\\_ethnicity & parent\\_education & lunch & test\\_prep\\_course & math\\_score & reading\\_score & writing\\_score\\\\\n",
       " <fct> & <chr> & <chr> & <chr> & <chr> & <dbl> & <dbl> & <dbl>\\\\\n",
       "\\hline\n",
       "\t female & group B & bachelor's degree  & standard     & none      & 72 & 72 & 74\\\\\n",
       "\t female & group C & some college       & standard     & completed & 69 & 90 & 88\\\\\n",
       "\t female & group B & master's degree    & standard     & none      & 90 & 95 & 93\\\\\n",
       "\t male   & group A & associate's degree & free/reduced & none      & 47 & 57 & 44\\\\\n",
       "\t male   & group C & some college       & standard     & none      & 76 & 78 & 75\\\\\n",
       "\t female & group B & associate's degree & standard     & none      & 71 & 83 & 78\\\\\n",
       "\\end{tabular}\n"
      ],
      "text/markdown": [
       "\n",
       "A tibble: 6 × 8\n",
       "\n",
       "| gender &lt;fct&gt; | race_ethnicity &lt;chr&gt; | parent_education &lt;chr&gt; | lunch &lt;chr&gt; | test_prep_course &lt;chr&gt; | math_score &lt;dbl&gt; | reading_score &lt;dbl&gt; | writing_score &lt;dbl&gt; |\n",
       "|---|---|---|---|---|---|---|---|\n",
       "| female | group B | bachelor's degree  | standard     | none      | 72 | 72 | 74 |\n",
       "| female | group C | some college       | standard     | completed | 69 | 90 | 88 |\n",
       "| female | group B | master's degree    | standard     | none      | 90 | 95 | 93 |\n",
       "| male   | group A | associate's degree | free/reduced | none      | 47 | 57 | 44 |\n",
       "| male   | group C | some college       | standard     | none      | 76 | 78 | 75 |\n",
       "| female | group B | associate's degree | standard     | none      | 71 | 83 | 78 |\n",
       "\n"
      ],
      "text/plain": [
       "  gender race_ethnicity parent_education   lunch        test_prep_course\n",
       "1 female group B        bachelor's degree  standard     none            \n",
       "2 female group C        some college       standard     completed       \n",
       "3 female group B        master's degree    standard     none            \n",
       "4 male   group A        associate's degree free/reduced none            \n",
       "5 male   group C        some college       standard     none            \n",
       "6 female group B        associate's degree standard     none            \n",
       "  math_score reading_score writing_score\n",
       "1 72         72            74           \n",
       "2 69         90            88           \n",
       "3 90         95            93           \n",
       "4 47         57            44           \n",
       "5 76         78            75           \n",
       "6 71         83            78           "
      ]
     },
     "metadata": {},
     "output_type": "display_data"
    }
   ],
   "source": [
    "# data processing\n",
    "head(stu_perf)"
   ]
  },
  {
   "cell_type": "code",
   "execution_count": 47,
   "metadata": {},
   "outputs": [
    {
     "name": "stdout",
     "output_type": "stream",
     "text": [
      "Rows: 1,000\n",
      "Columns: 8\n",
      "$ gender           \u001b[3m\u001b[90m<fct>\u001b[39m\u001b[23m female, female, female, male, male, female, female, …\n",
      "$ race_ethnicity   \u001b[3m\u001b[90m<chr>\u001b[39m\u001b[23m \"group B\", \"group C\", \"group B\", \"group A\", \"group C…\n",
      "$ parent_education \u001b[3m\u001b[90m<chr>\u001b[39m\u001b[23m \"bachelor's degree\", \"some college\", \"master's degre…\n",
      "$ lunch            \u001b[3m\u001b[90m<chr>\u001b[39m\u001b[23m \"standard\", \"standard\", \"standard\", \"free/reduced\", …\n",
      "$ test_prep_course \u001b[3m\u001b[90m<chr>\u001b[39m\u001b[23m \"none\", \"completed\", \"none\", \"none\", \"none\", \"none\",…\n",
      "$ math_score       \u001b[3m\u001b[90m<dbl>\u001b[39m\u001b[23m 72, 69, 90, 47, 76, 71, 88, 40, 64, 38, 58, 40, 65, …\n",
      "$ reading_score    \u001b[3m\u001b[90m<dbl>\u001b[39m\u001b[23m 72, 90, 95, 57, 78, 83, 95, 43, 64, 60, 54, 52, 81, …\n",
      "$ writing_score    \u001b[3m\u001b[90m<dbl>\u001b[39m\u001b[23m 74, 88, 93, 44, 75, 78, 92, 39, 67, 50, 52, 43, 73, …\n",
      "\u001b[90m# A tibble: 2 x 1\u001b[39m\n",
      "  gender\n",
      "  \u001b[3m\u001b[90m<fct>\u001b[39m\u001b[23m \n",
      "\u001b[90m1\u001b[39m female\n",
      "\u001b[90m2\u001b[39m male  \n",
      "\u001b[90m# A tibble: 5 x 1\u001b[39m\n",
      "  race_ethnicity\n",
      "  \u001b[3m\u001b[90m<chr>\u001b[39m\u001b[23m         \n",
      "\u001b[90m1\u001b[39m group B       \n",
      "\u001b[90m2\u001b[39m group C       \n",
      "\u001b[90m3\u001b[39m group A       \n",
      "\u001b[90m4\u001b[39m group D       \n",
      "\u001b[90m5\u001b[39m group E       \n",
      "\u001b[90m# A tibble: 6 x 1\u001b[39m\n",
      "  parent_education  \n",
      "  \u001b[3m\u001b[90m<chr>\u001b[39m\u001b[23m             \n",
      "\u001b[90m1\u001b[39m bachelor's degree \n",
      "\u001b[90m2\u001b[39m some college      \n",
      "\u001b[90m3\u001b[39m master's degree   \n",
      "\u001b[90m4\u001b[39m associate's degree\n",
      "\u001b[90m5\u001b[39m high school       \n",
      "\u001b[90m6\u001b[39m some high school  \n",
      "\u001b[90m# A tibble: 2 x 1\u001b[39m\n",
      "  lunch       \n",
      "  \u001b[3m\u001b[90m<chr>\u001b[39m\u001b[23m       \n",
      "\u001b[90m1\u001b[39m standard    \n",
      "\u001b[90m2\u001b[39m free/reduced\n",
      "\u001b[90m# A tibble: 2 x 1\u001b[39m\n",
      "  test_prep_course\n",
      "  \u001b[3m\u001b[90m<chr>\u001b[39m\u001b[23m           \n",
      "\u001b[90m1\u001b[39m none            \n",
      "\u001b[90m2\u001b[39m completed       \n",
      "\u001b[90m# A tibble: 81 x 1\u001b[39m\n",
      "   math_score\n",
      "        \u001b[3m\u001b[90m<dbl>\u001b[39m\u001b[23m\n",
      "\u001b[90m 1\u001b[39m         72\n",
      "\u001b[90m 2\u001b[39m         69\n",
      "\u001b[90m 3\u001b[39m         90\n",
      "\u001b[90m 4\u001b[39m         47\n",
      "\u001b[90m 5\u001b[39m         76\n",
      "\u001b[90m 6\u001b[39m         71\n",
      "\u001b[90m 7\u001b[39m         88\n",
      "\u001b[90m 8\u001b[39m         40\n",
      "\u001b[90m 9\u001b[39m         64\n",
      "\u001b[90m10\u001b[39m         38\n",
      "\u001b[90m# … with 71 more rows\u001b[39m\n",
      "\u001b[90m# A tibble: 72 x 1\u001b[39m\n",
      "   reading_score\n",
      "           \u001b[3m\u001b[90m<dbl>\u001b[39m\u001b[23m\n",
      "\u001b[90m 1\u001b[39m            72\n",
      "\u001b[90m 2\u001b[39m            90\n",
      "\u001b[90m 3\u001b[39m            95\n",
      "\u001b[90m 4\u001b[39m            57\n",
      "\u001b[90m 5\u001b[39m            78\n",
      "\u001b[90m 6\u001b[39m            83\n",
      "\u001b[90m 7\u001b[39m            43\n",
      "\u001b[90m 8\u001b[39m            64\n",
      "\u001b[90m 9\u001b[39m            60\n",
      "\u001b[90m10\u001b[39m            54\n",
      "\u001b[90m# … with 62 more rows\u001b[39m\n",
      "\u001b[90m# A tibble: 77 x 1\u001b[39m\n",
      "   writing_score\n",
      "           \u001b[3m\u001b[90m<dbl>\u001b[39m\u001b[23m\n",
      "\u001b[90m 1\u001b[39m            74\n",
      "\u001b[90m 2\u001b[39m            88\n",
      "\u001b[90m 3\u001b[39m            93\n",
      "\u001b[90m 4\u001b[39m            44\n",
      "\u001b[90m 5\u001b[39m            75\n",
      "\u001b[90m 6\u001b[39m            78\n",
      "\u001b[90m 7\u001b[39m            92\n",
      "\u001b[90m 8\u001b[39m            39\n",
      "\u001b[90m 9\u001b[39m            67\n",
      "\u001b[90m10\u001b[39m            50\n",
      "\u001b[90m# … with 67 more rows\u001b[39m\n"
     ]
    }
   ],
   "source": [
    "glimpse(stu_perf)\n",
    "\n",
    "for (i in 1:length(stu_perf)){\n",
    "    print(unique(stu_perf[i]))\n",
    "}"
   ]
  },
  {
   "cell_type": "code",
   "execution_count": 110,
   "metadata": {},
   "outputs": [],
   "source": [
    "stu_perf_1 <- data.frame(stu_perf)\n",
    "# lunch binary\n",
    "stu_perf_1$lunch <- ifelse(test = stu_perf_1$lunch == \"standard\",1,0)\n",
    "# test_prep binary\n",
    "stu_perf_1$test_prep_course <- ifelse(test = stu_perf_1$test_prep_course == \"completed\",1,0)\n",
    "# race A B C D E\n",
    "stu_perf_1 <- stu_perf_1 %>% \n",
    "            mutate(race_a = ifelse(race_ethnicity==\"group A\",1,0)) %>%\n",
    "            mutate(race_b = ifelse(race_ethnicity==\"group B\",1,0)) %>%\n",
    "            mutate(race_c = ifelse(race_ethnicity==\"group C\",1,0)) %>%\n",
    "            mutate(race_d = ifelse(race_ethnicity==\"group D\",1,0)) %>%\n",
    "            mutate(race_e = ifelse(race_ethnicity==\"group E\",1,0))\n",
    "# parent education\n",
    "# 1 bachelor's degree \n",
    "# 2 some college      \n",
    "# 3 master's degree   \n",
    "# 4 associate's degree\n",
    "# 5 high school       \n",
    "# 6 some high school  \n",
    "stu_perf_1 <- stu_perf_1 %>% \n",
    "            mutate(pe_bachelor = ifelse(parent_education==\"bachelor's degree\",1,0)) %>%\n",
    "            mutate(pe_college = ifelse(parent_education==\"some college\",1,0)) %>%\n",
    "            mutate(pe_master = ifelse(parent_education==\"master's degree\",1,0)) %>%\n",
    "            mutate(pe_associate = ifelse(parent_education==\"associate's degree\",1,0)) %>%\n",
    "            mutate(pe_highschool = ifelse(parent_education==\"high school\",1,0)) %>%\n",
    "            mutate(pe_somehighschool = ifelse(parent_education==\"some high school\",1,0))\n",
    "stu_perf_clean <- stu_perf_1 %>% select(-race_ethnicity,-parent_education)"
   ]
  },
  {
   "cell_type": "code",
   "execution_count": 111,
   "metadata": {},
   "outputs": [
    {
     "data": {
      "text/html": [
       "<table>\n",
       "<caption>A data.frame: 6 × 17</caption>\n",
       "<thead>\n",
       "\t<tr><th></th><th scope=col>gender</th><th scope=col>lunch</th><th scope=col>test_prep_course</th><th scope=col>math_score</th><th scope=col>reading_score</th><th scope=col>writing_score</th><th scope=col>race_a</th><th scope=col>race_b</th><th scope=col>race_c</th><th scope=col>race_d</th><th scope=col>race_e</th><th scope=col>pe_bachelor</th><th scope=col>pe_college</th><th scope=col>pe_master</th><th scope=col>pe_associate</th><th scope=col>pe_highschool</th><th scope=col>pe_somehighschool</th></tr>\n",
       "\t<tr><th></th><th scope=col>&lt;fct&gt;</th><th scope=col>&lt;dbl&gt;</th><th scope=col>&lt;dbl&gt;</th><th scope=col>&lt;dbl&gt;</th><th scope=col>&lt;dbl&gt;</th><th scope=col>&lt;dbl&gt;</th><th scope=col>&lt;dbl&gt;</th><th scope=col>&lt;dbl&gt;</th><th scope=col>&lt;dbl&gt;</th><th scope=col>&lt;dbl&gt;</th><th scope=col>&lt;dbl&gt;</th><th scope=col>&lt;dbl&gt;</th><th scope=col>&lt;dbl&gt;</th><th scope=col>&lt;dbl&gt;</th><th scope=col>&lt;dbl&gt;</th><th scope=col>&lt;dbl&gt;</th><th scope=col>&lt;dbl&gt;</th></tr>\n",
       "</thead>\n",
       "<tbody>\n",
       "\t<tr><th scope=row>1</th><td>female</td><td>1</td><td>0</td><td>72</td><td>72</td><td>74</td><td>0</td><td>1</td><td>0</td><td>0</td><td>0</td><td>1</td><td>0</td><td>0</td><td>0</td><td>0</td><td>0</td></tr>\n",
       "\t<tr><th scope=row>2</th><td>female</td><td>1</td><td>1</td><td>69</td><td>90</td><td>88</td><td>0</td><td>0</td><td>1</td><td>0</td><td>0</td><td>0</td><td>1</td><td>0</td><td>0</td><td>0</td><td>0</td></tr>\n",
       "\t<tr><th scope=row>3</th><td>female</td><td>1</td><td>0</td><td>90</td><td>95</td><td>93</td><td>0</td><td>1</td><td>0</td><td>0</td><td>0</td><td>0</td><td>0</td><td>1</td><td>0</td><td>0</td><td>0</td></tr>\n",
       "\t<tr><th scope=row>4</th><td>male  </td><td>0</td><td>0</td><td>47</td><td>57</td><td>44</td><td>1</td><td>0</td><td>0</td><td>0</td><td>0</td><td>0</td><td>0</td><td>0</td><td>1</td><td>0</td><td>0</td></tr>\n",
       "\t<tr><th scope=row>5</th><td>male  </td><td>1</td><td>0</td><td>76</td><td>78</td><td>75</td><td>0</td><td>0</td><td>1</td><td>0</td><td>0</td><td>0</td><td>1</td><td>0</td><td>0</td><td>0</td><td>0</td></tr>\n",
       "\t<tr><th scope=row>6</th><td>female</td><td>1</td><td>0</td><td>71</td><td>83</td><td>78</td><td>0</td><td>1</td><td>0</td><td>0</td><td>0</td><td>0</td><td>0</td><td>0</td><td>1</td><td>0</td><td>0</td></tr>\n",
       "</tbody>\n",
       "</table>\n"
      ],
      "text/latex": [
       "A data.frame: 6 × 17\n",
       "\\begin{tabular}{r|lllllllllllllllll}\n",
       "  & gender & lunch & test\\_prep\\_course & math\\_score & reading\\_score & writing\\_score & race\\_a & race\\_b & race\\_c & race\\_d & race\\_e & pe\\_bachelor & pe\\_college & pe\\_master & pe\\_associate & pe\\_highschool & pe\\_somehighschool\\\\\n",
       "  & <fct> & <dbl> & <dbl> & <dbl> & <dbl> & <dbl> & <dbl> & <dbl> & <dbl> & <dbl> & <dbl> & <dbl> & <dbl> & <dbl> & <dbl> & <dbl> & <dbl>\\\\\n",
       "\\hline\n",
       "\t1 & female & 1 & 0 & 72 & 72 & 74 & 0 & 1 & 0 & 0 & 0 & 1 & 0 & 0 & 0 & 0 & 0\\\\\n",
       "\t2 & female & 1 & 1 & 69 & 90 & 88 & 0 & 0 & 1 & 0 & 0 & 0 & 1 & 0 & 0 & 0 & 0\\\\\n",
       "\t3 & female & 1 & 0 & 90 & 95 & 93 & 0 & 1 & 0 & 0 & 0 & 0 & 0 & 1 & 0 & 0 & 0\\\\\n",
       "\t4 & male   & 0 & 0 & 47 & 57 & 44 & 1 & 0 & 0 & 0 & 0 & 0 & 0 & 0 & 1 & 0 & 0\\\\\n",
       "\t5 & male   & 1 & 0 & 76 & 78 & 75 & 0 & 0 & 1 & 0 & 0 & 0 & 1 & 0 & 0 & 0 & 0\\\\\n",
       "\t6 & female & 1 & 0 & 71 & 83 & 78 & 0 & 1 & 0 & 0 & 0 & 0 & 0 & 0 & 1 & 0 & 0\\\\\n",
       "\\end{tabular}\n"
      ],
      "text/markdown": [
       "\n",
       "A data.frame: 6 × 17\n",
       "\n",
       "| <!--/--> | gender &lt;fct&gt; | lunch &lt;dbl&gt; | test_prep_course &lt;dbl&gt; | math_score &lt;dbl&gt; | reading_score &lt;dbl&gt; | writing_score &lt;dbl&gt; | race_a &lt;dbl&gt; | race_b &lt;dbl&gt; | race_c &lt;dbl&gt; | race_d &lt;dbl&gt; | race_e &lt;dbl&gt; | pe_bachelor &lt;dbl&gt; | pe_college &lt;dbl&gt; | pe_master &lt;dbl&gt; | pe_associate &lt;dbl&gt; | pe_highschool &lt;dbl&gt; | pe_somehighschool &lt;dbl&gt; |\n",
       "|---|---|---|---|---|---|---|---|---|---|---|---|---|---|---|---|---|---|\n",
       "| 1 | female | 1 | 0 | 72 | 72 | 74 | 0 | 1 | 0 | 0 | 0 | 1 | 0 | 0 | 0 | 0 | 0 |\n",
       "| 2 | female | 1 | 1 | 69 | 90 | 88 | 0 | 0 | 1 | 0 | 0 | 0 | 1 | 0 | 0 | 0 | 0 |\n",
       "| 3 | female | 1 | 0 | 90 | 95 | 93 | 0 | 1 | 0 | 0 | 0 | 0 | 0 | 1 | 0 | 0 | 0 |\n",
       "| 4 | male   | 0 | 0 | 47 | 57 | 44 | 1 | 0 | 0 | 0 | 0 | 0 | 0 | 0 | 1 | 0 | 0 |\n",
       "| 5 | male   | 1 | 0 | 76 | 78 | 75 | 0 | 0 | 1 | 0 | 0 | 0 | 1 | 0 | 0 | 0 | 0 |\n",
       "| 6 | female | 1 | 0 | 71 | 83 | 78 | 0 | 1 | 0 | 0 | 0 | 0 | 0 | 0 | 1 | 0 | 0 |\n",
       "\n"
      ],
      "text/plain": [
       "  gender lunch test_prep_course math_score reading_score writing_score race_a\n",
       "1 female 1     0                72         72            74            0     \n",
       "2 female 1     1                69         90            88            0     \n",
       "3 female 1     0                90         95            93            0     \n",
       "4 male   0     0                47         57            44            1     \n",
       "5 male   1     0                76         78            75            0     \n",
       "6 female 1     0                71         83            78            0     \n",
       "  race_b race_c race_d race_e pe_bachelor pe_college pe_master pe_associate\n",
       "1 1      0      0      0      1           0          0         0           \n",
       "2 0      1      0      0      0           1          0         0           \n",
       "3 1      0      0      0      0           0          1         0           \n",
       "4 0      0      0      0      0           0          0         1           \n",
       "5 0      1      0      0      0           1          0         0           \n",
       "6 1      0      0      0      0           0          0         1           \n",
       "  pe_highschool pe_somehighschool\n",
       "1 0             0                \n",
       "2 0             0                \n",
       "3 0             0                \n",
       "4 0             0                \n",
       "5 0             0                \n",
       "6 0             0                "
      ]
     },
     "metadata": {},
     "output_type": "display_data"
    }
   ],
   "source": [
    "head(stu_perf_clean)"
   ]
  },
  {
   "cell_type": "code",
   "execution_count": 112,
   "metadata": {},
   "outputs": [],
   "source": [
    "# initail split\n",
    "stuperf_split_all <- initial_split(stu_perf_clean)\n",
    "stuperf_train_all <- training(stuperf_split_all)\n",
    "stuperf_test_all <- testing(stuperf_split_all)\n",
    "\n",
    "# cross validation\n",
    "stuperf_vfold_all <- vfold_cv(data = stuperf_train_all,prop=0.75,strata = gender)\n"
   ]
  },
  {
   "cell_type": "code",
   "execution_count": 113,
   "metadata": {},
   "outputs": [],
   "source": [
    "# tuning model\n",
    "knn_tuningspec_all <- nearest_neighbor(weight_func = \"rectangular\", neighbors = tune()) %>%\n",
    "       set_engine(\"kknn\") %>%\n",
    "       set_mode(\"classification\")\n",
    "\n",
    "recipe_all <- recipe(gender ~.,data = stuperf_train_all) %>% step_scale(all_predictors()) %>% step_center(all_predictors())\n",
    "\n",
    "workflow_tuning_all <- workflow() %>% add_recipe(recipe_all) %>% add_model(knn_tuningspec_all)"
   ]
  },
  {
   "cell_type": "code",
   "execution_count": 114,
   "metadata": {},
   "outputs": [],
   "source": [
    "# tune grid\n",
    "ks_all = tibble(neighbors = seq(from = 30, to = 70, by = 5))\n",
    "\n",
    "tuningresult_all <- workflow_tuning_all %>% \n",
    "                    tune_grid(resamples = stuperf_vfold_all,grid = 10) %>% \n",
    "                    collect_metrics()"
   ]
  },
  {
   "cell_type": "code",
   "execution_count": 115,
   "metadata": {},
   "outputs": [
    {
     "data": {
      "image/png": "[encoded data removed]",
      "text/plain": [
       "plot without title"
      ]
     },
     "metadata": {
      "image/png": {
       "height": 420,
       "width": 420
      }
     },
     "output_type": "display_data"
    }
   ],
   "source": [
    "tuningacc_all<- tuningresult_all %>%\n",
    "                filter(.metric == 'accuracy')\n",
    "\n",
    "ggplot(tuningacc_all, aes(x = neighbors, y = mean)) +\n",
    "  geom_point() +\n",
    "  geom_line() + \n",
    "  labs(x = 'Neighbors', y = 'Accuracy Estimate')"
   ]
  },
  {
   "cell_type": "code",
   "execution_count": 116,
   "metadata": {},
   "outputs": [
    {
     "data": {
      "text/html": [
       "<table>\n",
       "<caption>A tibble: 1 × 7</caption>\n",
       "<thead>\n",
       "\t<tr><th scope=col>neighbors</th><th scope=col>.metric</th><th scope=col>.estimator</th><th scope=col>mean</th><th scope=col>n</th><th scope=col>std_err</th><th scope=col>.config</th></tr>\n",
       "\t<tr><th scope=col>&lt;int&gt;</th><th scope=col>&lt;chr&gt;</th><th scope=col>&lt;chr&gt;</th><th scope=col>&lt;dbl&gt;</th><th scope=col>&lt;int&gt;</th><th scope=col>&lt;dbl&gt;</th><th scope=col>&lt;chr&gt;</th></tr>\n",
       "</thead>\n",
       "<tbody>\n",
       "\t<tr><td>2</td><td>accuracy</td><td>binary</td><td>0.639019</td><td>10</td><td>0.01716944</td><td>Model1</td></tr>\n",
       "</tbody>\n",
       "</table>\n"
      ],
      "text/latex": [
       "A tibble: 1 × 7\n",
       "\\begin{tabular}{lllllll}\n",
       " neighbors & .metric & .estimator & mean & n & std\\_err & .config\\\\\n",
       " <int> & <chr> & <chr> & <dbl> & <int> & <dbl> & <chr>\\\\\n",
       "\\hline\n",
       "\t 2 & accuracy & binary & 0.639019 & 10 & 0.01716944 & Model1\\\\\n",
       "\\end{tabular}\n"
      ],
      "text/markdown": [
       "\n",
       "A tibble: 1 × 7\n",
       "\n",
       "| neighbors &lt;int&gt; | .metric &lt;chr&gt; | .estimator &lt;chr&gt; | mean &lt;dbl&gt; | n &lt;int&gt; | std_err &lt;dbl&gt; | .config &lt;chr&gt; |\n",
       "|---|---|---|---|---|---|---|\n",
       "| 2 | accuracy | binary | 0.639019 | 10 | 0.01716944 | Model1 |\n",
       "\n"
      ],
      "text/plain": [
       "  neighbors .metric  .estimator mean     n  std_err    .config\n",
       "1 2         accuracy binary     0.639019 10 0.01716944 Model1 "
      ]
     },
     "metadata": {},
     "output_type": "display_data"
    }
   ],
   "source": [
    "tuningacc_all %>% arrange(desc(mean))%>% head(1)"
   ]
  },
  {
   "cell_type": "markdown",
   "metadata": {},
   "source": [
    "so strange, use different recipe, assume parent education and race are not factor"
   ]
  },
  {
   "cell_type": "code",
   "execution_count": 129,
   "metadata": {},
   "outputs": [],
   "source": [
    "recipe_new_all <- recipe(gender ~lunch+test_prep_course+math_score+reading_score+writing_score,data = stuperf_train_all) %>% step_scale(all_predictors()) %>% step_center(all_predictors())\n",
    "workflow_new_tuning_all <- workflow() %>% add_recipe(recipe_new_all) %>% add_model(knn_tuningspec_all)"
   ]
  },
  {
   "cell_type": "code",
   "execution_count": 130,
   "metadata": {},
   "outputs": [],
   "source": [
    "\n",
    "# tune grid\n",
    "ks_all = tibble(neighbors = seq(from = 1, to = 30, by = 1))\n",
    "\n",
    "tuningresult_new_all <- workflow_new_tuning_all %>% \n",
    "                    tune_grid(resamples = stuperf_vfold_all,grid = ks_all) %>% \n",
    "                    collect_metrics()"
   ]
  },
  {
   "cell_type": "code",
   "execution_count": 131,
   "metadata": {},
   "outputs": [
    {
     "data": {
      "image/png": "[encoded data removed]",
      "text/plain": [
       "plot without title"
      ]
     },
     "metadata": {
      "image/png": {
       "height": 420,
       "width": 420
      }
     },
     "output_type": "display_data"
    }
   ],
   "source": [
    "tuningacc_new_all<- tuningresult_all %>%\n",
    "                filter(.metric == 'accuracy')\n",
    "\n",
    "ggplot(tuningacc_new_all, aes(x = neighbors, y = mean)) +\n",
    "  geom_point() +\n",
    "  geom_line() + \n",
    "  labs(x = 'Neighbors', y = 'Accuracy Estimate')"
   ]
  },
  {
   "cell_type": "code",
   "execution_count": 132,
   "metadata": {},
   "outputs": [
    {
     "data": {
      "text/html": [
       "<table>\n",
       "<caption>A tibble: 1 × 7</caption>\n",
       "<thead>\n",
       "\t<tr><th scope=col>neighbors</th><th scope=col>.metric</th><th scope=col>.estimator</th><th scope=col>mean</th><th scope=col>n</th><th scope=col>std_err</th><th scope=col>.config</th></tr>\n",
       "\t<tr><th scope=col>&lt;dbl&gt;</th><th scope=col>&lt;chr&gt;</th><th scope=col>&lt;chr&gt;</th><th scope=col>&lt;dbl&gt;</th><th scope=col>&lt;int&gt;</th><th scope=col>&lt;dbl&gt;</th><th scope=col>&lt;chr&gt;</th></tr>\n",
       "</thead>\n",
       "<tbody>\n",
       "\t<tr><td>9</td><td>accuracy</td><td>binary</td><td>0.862688</td><td>10</td><td>0.008813236</td><td>Model09</td></tr>\n",
       "</tbody>\n",
       "</table>\n"
      ],
      "text/latex": [
       "A tibble: 1 × 7\n",
       "\\begin{tabular}{lllllll}\n",
       " neighbors & .metric & .estimator & mean & n & std\\_err & .config\\\\\n",
       " <dbl> & <chr> & <chr> & <dbl> & <int> & <dbl> & <chr>\\\\\n",
       "\\hline\n",
       "\t 9 & accuracy & binary & 0.862688 & 10 & 0.008813236 & Model09\\\\\n",
       "\\end{tabular}\n"
      ],
      "text/markdown": [
       "\n",
       "A tibble: 1 × 7\n",
       "\n",
       "| neighbors &lt;dbl&gt; | .metric &lt;chr&gt; | .estimator &lt;chr&gt; | mean &lt;dbl&gt; | n &lt;int&gt; | std_err &lt;dbl&gt; | .config &lt;chr&gt; |\n",
       "|---|---|---|---|---|---|---|\n",
       "| 9 | accuracy | binary | 0.862688 | 10 | 0.008813236 | Model09 |\n",
       "\n"
      ],
      "text/plain": [
       "  neighbors .metric  .estimator mean     n  std_err     .config\n",
       "1 9         accuracy binary     0.862688 10 0.008813236 Model09"
      ]
     },
     "metadata": {},
     "output_type": "display_data"
    }
   ],
   "source": [
    "tuningacc_new_all %>% arrange(desc(mean))%>% head(1)"
   ]
  },
  {
   "cell_type": "code",
   "execution_count": 135,
   "metadata": {},
   "outputs": [],
   "source": [
    "knn_best_spec_all <- nearest_neighbor(weight_func = \"rectangular\", neighbors = 9) %>%\n",
    "       set_engine(\"kknn\") %>%\n",
    "       set_mode(\"classification\")\n",
    "\n",
    "workflow9_all <- workflow() %>% add_recipe(recipe_new_all) %>% add_model(knn_best_spec_all)"
   ]
  },
  {
   "cell_type": "code",
   "execution_count": 136,
   "metadata": {},
   "outputs": [
    {
     "data": {
      "text/html": [
       "<table>\n",
       "<caption>A tibble: 6 × 18</caption>\n",
       "<thead>\n",
       "\t<tr><th scope=col>.pred_class</th><th scope=col>gender</th><th scope=col>lunch</th><th scope=col>test_prep_course</th><th scope=col>math_score</th><th scope=col>reading_score</th><th scope=col>writing_score</th><th scope=col>race_a</th><th scope=col>race_b</th><th scope=col>race_c</th><th scope=col>race_d</th><th scope=col>race_e</th><th scope=col>pe_bachelor</th><th scope=col>pe_college</th><th scope=col>pe_master</th><th scope=col>pe_associate</th><th scope=col>pe_highschool</th><th scope=col>pe_somehighschool</th></tr>\n",
       "\t<tr><th scope=col>&lt;fct&gt;</th><th scope=col>&lt;fct&gt;</th><th scope=col>&lt;dbl&gt;</th><th scope=col>&lt;dbl&gt;</th><th scope=col>&lt;dbl&gt;</th><th scope=col>&lt;dbl&gt;</th><th scope=col>&lt;dbl&gt;</th><th scope=col>&lt;dbl&gt;</th><th scope=col>&lt;dbl&gt;</th><th scope=col>&lt;dbl&gt;</th><th scope=col>&lt;dbl&gt;</th><th scope=col>&lt;dbl&gt;</th><th scope=col>&lt;dbl&gt;</th><th scope=col>&lt;dbl&gt;</th><th scope=col>&lt;dbl&gt;</th><th scope=col>&lt;dbl&gt;</th><th scope=col>&lt;dbl&gt;</th><th scope=col>&lt;dbl&gt;</th></tr>\n",
       "</thead>\n",
       "<tbody>\n",
       "\t<tr><td>female</td><td>female</td><td>1</td><td>1</td><td>69</td><td>90</td><td>88</td><td>0</td><td>0</td><td>1</td><td>0</td><td>0</td><td>0</td><td>1</td><td>0</td><td>0</td><td>0</td><td>0</td></tr>\n",
       "\t<tr><td>female</td><td>female</td><td>1</td><td>0</td><td>90</td><td>95</td><td>93</td><td>0</td><td>1</td><td>0</td><td>0</td><td>0</td><td>0</td><td>0</td><td>1</td><td>0</td><td>0</td><td>0</td></tr>\n",
       "\t<tr><td>female</td><td>female</td><td>1</td><td>0</td><td>71</td><td>83</td><td>78</td><td>0</td><td>1</td><td>0</td><td>0</td><td>0</td><td>0</td><td>0</td><td>0</td><td>1</td><td>0</td><td>0</td></tr>\n",
       "\t<tr><td>female</td><td>female</td><td>1</td><td>0</td><td>65</td><td>81</td><td>73</td><td>0</td><td>1</td><td>0</td><td>0</td><td>0</td><td>0</td><td>0</td><td>0</td><td>0</td><td>1</td><td>0</td></tr>\n",
       "\t<tr><td>female</td><td>female</td><td>1</td><td>0</td><td>69</td><td>73</td><td>73</td><td>0</td><td>0</td><td>1</td><td>0</td><td>0</td><td>0</td><td>0</td><td>0</td><td>0</td><td>0</td><td>1</td></tr>\n",
       "\t<tr><td>female</td><td>female</td><td>1</td><td>0</td><td>62</td><td>70</td><td>75</td><td>0</td><td>0</td><td>0</td><td>1</td><td>0</td><td>0</td><td>0</td><td>1</td><td>0</td><td>0</td><td>0</td></tr>\n",
       "</tbody>\n",
       "</table>\n"
      ],
      "text/latex": [
       "A tibble: 6 × 18\n",
       "\\begin{tabular}{llllllllllllllllll}\n",
       " .pred\\_class & gender & lunch & test\\_prep\\_course & math\\_score & reading\\_score & writing\\_score & race\\_a & race\\_b & race\\_c & race\\_d & race\\_e & pe\\_bachelor & pe\\_college & pe\\_master & pe\\_associate & pe\\_highschool & pe\\_somehighschool\\\\\n",
       " <fct> & <fct> & <dbl> & <dbl> & <dbl> & <dbl> & <dbl> & <dbl> & <dbl> & <dbl> & <dbl> & <dbl> & <dbl> & <dbl> & <dbl> & <dbl> & <dbl> & <dbl>\\\\\n",
       "\\hline\n",
       "\t female & female & 1 & 1 & 69 & 90 & 88 & 0 & 0 & 1 & 0 & 0 & 0 & 1 & 0 & 0 & 0 & 0\\\\\n",
       "\t female & female & 1 & 0 & 90 & 95 & 93 & 0 & 1 & 0 & 0 & 0 & 0 & 0 & 1 & 0 & 0 & 0\\\\\n",
       "\t female & female & 1 & 0 & 71 & 83 & 78 & 0 & 1 & 0 & 0 & 0 & 0 & 0 & 0 & 1 & 0 & 0\\\\\n",
       "\t female & female & 1 & 0 & 65 & 81 & 73 & 0 & 1 & 0 & 0 & 0 & 0 & 0 & 0 & 0 & 1 & 0\\\\\n",
       "\t female & female & 1 & 0 & 69 & 73 & 73 & 0 & 0 & 1 & 0 & 0 & 0 & 0 & 0 & 0 & 0 & 1\\\\\n",
       "\t female & female & 1 & 0 & 62 & 70 & 75 & 0 & 0 & 0 & 1 & 0 & 0 & 0 & 1 & 0 & 0 & 0\\\\\n",
       "\\end{tabular}\n"
      ],
      "text/markdown": [
       "\n",
       "A tibble: 6 × 18\n",
       "\n",
       "| .pred_class &lt;fct&gt; | gender &lt;fct&gt; | lunch &lt;dbl&gt; | test_prep_course &lt;dbl&gt; | math_score &lt;dbl&gt; | reading_score &lt;dbl&gt; | writing_score &lt;dbl&gt; | race_a &lt;dbl&gt; | race_b &lt;dbl&gt; | race_c &lt;dbl&gt; | race_d &lt;dbl&gt; | race_e &lt;dbl&gt; | pe_bachelor &lt;dbl&gt; | pe_college &lt;dbl&gt; | pe_master &lt;dbl&gt; | pe_associate &lt;dbl&gt; | pe_highschool &lt;dbl&gt; | pe_somehighschool &lt;dbl&gt; |\n",
       "|---|---|---|---|---|---|---|---|---|---|---|---|---|---|---|---|---|---|\n",
       "| female | female | 1 | 1 | 69 | 90 | 88 | 0 | 0 | 1 | 0 | 0 | 0 | 1 | 0 | 0 | 0 | 0 |\n",
       "| female | female | 1 | 0 | 90 | 95 | 93 | 0 | 1 | 0 | 0 | 0 | 0 | 0 | 1 | 0 | 0 | 0 |\n",
       "| female | female | 1 | 0 | 71 | 83 | 78 | 0 | 1 | 0 | 0 | 0 | 0 | 0 | 0 | 1 | 0 | 0 |\n",
       "| female | female | 1 | 0 | 65 | 81 | 73 | 0 | 1 | 0 | 0 | 0 | 0 | 0 | 0 | 0 | 1 | 0 |\n",
       "| female | female | 1 | 0 | 69 | 73 | 73 | 0 | 0 | 1 | 0 | 0 | 0 | 0 | 0 | 0 | 0 | 1 |\n",
       "| female | female | 1 | 0 | 62 | 70 | 75 | 0 | 0 | 0 | 1 | 0 | 0 | 0 | 1 | 0 | 0 | 0 |\n",
       "\n"
      ],
      "text/plain": [
       "  .pred_class gender lunch test_prep_course math_score reading_score\n",
       "1 female      female 1     1                69         90           \n",
       "2 female      female 1     0                90         95           \n",
       "3 female      female 1     0                71         83           \n",
       "4 female      female 1     0                65         81           \n",
       "5 female      female 1     0                69         73           \n",
       "6 female      female 1     0                62         70           \n",
       "  writing_score race_a race_b race_c race_d race_e pe_bachelor pe_college\n",
       "1 88            0      0      1      0      0      0           1         \n",
       "2 93            0      1      0      0      0      0           0         \n",
       "3 78            0      1      0      0      0      0           0         \n",
       "4 73            0      1      0      0      0      0           0         \n",
       "5 73            0      0      1      0      0      0           0         \n",
       "6 75            0      0      0      1      0      0           0         \n",
       "  pe_master pe_associate pe_highschool pe_somehighschool\n",
       "1 0         0            0             0                \n",
       "2 1         0            0             0                \n",
       "3 0         1            0             0                \n",
       "4 0         0            1             0                \n",
       "5 0         0            0             1                \n",
       "6 1         0            0             0                "
      ]
     },
     "metadata": {},
     "output_type": "display_data"
    },
    {
     "data": {
      "text/plain": [
       "$table\n",
       "          Truth\n",
       "Prediction female male\n",
       "    female    120   19\n",
       "    male       15   96\n",
       "\n",
       "$dots\n",
       "list()\n"
      ]
     },
     "metadata": {},
     "output_type": "display_data"
    },
    {
     "data": {
      "text/html": [
       "<table>\n",
       "<caption>A tibble: 2 × 3</caption>\n",
       "<thead>\n",
       "\t<tr><th scope=col>.metric</th><th scope=col>.estimator</th><th scope=col>.estimate</th></tr>\n",
       "\t<tr><th scope=col>&lt;chr&gt;</th><th scope=col>&lt;chr&gt;</th><th scope=col>&lt;dbl&gt;</th></tr>\n",
       "</thead>\n",
       "<tbody>\n",
       "\t<tr><td>accuracy</td><td>binary</td><td>0.8640000</td></tr>\n",
       "\t<tr><td>kap     </td><td>binary</td><td>0.7255408</td></tr>\n",
       "</tbody>\n",
       "</table>\n"
      ],
      "text/latex": [
       "A tibble: 2 × 3\n",
       "\\begin{tabular}{lll}\n",
       " .metric & .estimator & .estimate\\\\\n",
       " <chr> & <chr> & <dbl>\\\\\n",
       "\\hline\n",
       "\t accuracy & binary & 0.8640000\\\\\n",
       "\t kap      & binary & 0.7255408\\\\\n",
       "\\end{tabular}\n"
      ],
      "text/markdown": [
       "\n",
       "A tibble: 2 × 3\n",
       "\n",
       "| .metric &lt;chr&gt; | .estimator &lt;chr&gt; | .estimate &lt;dbl&gt; |\n",
       "|---|---|---|\n",
       "| accuracy | binary | 0.8640000 |\n",
       "| kap      | binary | 0.7255408 |\n",
       "\n"
      ],
      "text/plain": [
       "  .metric  .estimator .estimate\n",
       "1 accuracy binary     0.8640000\n",
       "2 kap      binary     0.7255408"
      ]
     },
     "metadata": {},
     "output_type": "display_data"
    }
   ],
   "source": [
    "# result\n",
    "fit9_all <- workflow9_all %>% fit(data=stuperf_train_all)\n",
    "predict9_all <- fit9_all %>% predict(stuperf_test_all) %>% bind_cols(stuperf_test_all)\n",
    "result9_all <- predict9_all %>% metrics(truth = gender,estimate = .pred_class)\n",
    "result9_conf_all <- predict9_all %>% conf_mat(truth = gender, estimate = .pred_class)\n",
    "head(predict9_all)\n",
    "head(result9_conf_all)\n",
    "head(result9_all)"
   ]
  },
  {
   "cell_type": "code",
   "execution_count": null,
   "metadata": {},
   "outputs": [],
   "source": []
  }
 ],
 "metadata": {
  "kernelspec": {
   "display_name": "R",
   "language": "R",
   "name": "ir"
  },
  "language_info": {
   "codemirror_mode": "r",
   "file_extension": ".r",
   "mimetype": "text/x-r-source",
   "name": "R",
   "pygments_lexer": "r",
   "version": "4.0.0"
  }
 },
 "nbformat": 4,
 "nbformat_minor": 4
}
